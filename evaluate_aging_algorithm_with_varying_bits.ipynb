{
  "cells": [
    {
      "cell_type": "markdown",
      "metadata": {
        "id": "view-in-github",
        "colab_type": "text"
      },
      "source": [
        "<a href=\"https://colab.research.google.com/github/myller-silva/SO-trabalho-03-paginacao/blob/main/evaluate_aging_algorithm_with_varying_bits.ipynb\" target=\"_parent\"><img src=\"https://colab.research.google.com/assets/colab-badge.svg\" alt=\"Open In Colab\"/></a>"
      ]
    },
    {
      "cell_type": "markdown",
      "source": [
        "# Libs"
      ],
      "metadata": {
        "id": "1GagtQbw0lb1"
      }
    },
    {
      "cell_type": "code",
      "execution_count": 40,
      "metadata": {
        "id": "audHQr3SpPNb"
      },
      "outputs": [],
      "source": [
        "from collections import deque\n",
        "import random\n",
        "import math\n",
        "import matplotlib.pyplot as plt\n",
        "import numpy as np"
      ]
    },
    {
      "cell_type": "markdown",
      "source": [
        "# Algoritmos"
      ],
      "metadata": {
        "id": "7vdWFqAg0hEb"
      }
    },
    {
      "cell_type": "code",
      "execution_count": 41,
      "metadata": {
        "id": "-pdChIvfpPNd"
      },
      "outputs": [],
      "source": [
        "def fifo(referencias_as_paginas, qtd_molduras):\n",
        "  molduras = []\n",
        "  faltas_de_pagina = 0\n",
        "\n",
        "  for pagina in referencias_as_paginas:\n",
        "    if pagina not in molduras:\n",
        "      faltas_de_pagina += 1\n",
        "      if len(molduras) == qtd_molduras:\n",
        "        molduras.pop(0)\n",
        "      molduras.append(pagina)\n",
        "\n",
        "  return faltas_de_pagina\n",
        "\n",
        "\n",
        "def aging_bits(referencias_as_paginas, qtd_molduras, qtd_bits=None):\n",
        "    if qtd_bits is None:\n",
        "      qtd_bits = qtd_molduras\n",
        "    molduras = []\n",
        "    idade_paginas = []\n",
        "    faltas_de_pagina = 0\n",
        "\n",
        "    for pagina in referencias_as_paginas:\n",
        "        if pagina in molduras:\n",
        "            indice_pagina = molduras.index(pagina)\n",
        "            idade_paginas[indice_pagina] >>= 1\n",
        "            idade_paginas[indice_pagina] |= 1 << (qtd_bits - 1)\n",
        "        else:\n",
        "            faltas_de_pagina += 1\n",
        "            idade_paginas = [idade >> 1 for idade in idade_paginas]\n",
        "            if len(molduras) == qtd_molduras:\n",
        "                indice_pagina_a_remover = idade_paginas.index(min(idade_paginas))\n",
        "                molduras[indice_pagina_a_remover] = pagina\n",
        "                idade_paginas[indice_pagina_a_remover] = 1 << (qtd_bits - 1)\n",
        "            else:\n",
        "                molduras.append(pagina)\n",
        "                idade_paginas.append(1 << (qtd_bits - 1))\n",
        "    return faltas_de_pagina\n"
      ]
    },
    {
      "cell_type": "markdown",
      "source": [
        "# FIFO vs Aging"
      ],
      "metadata": {
        "id": "xQNcG89EjOuK"
      }
    },
    {
      "cell_type": "code",
      "source": [
        "def experimento_fifo_vs_aging(qtd_referencias, qtd_paginas, max_molduras = 64):\n",
        "    paginas  = [i for i in range(qtd_paginas)]\n",
        "    referencias_as_paginas = random.choices(paginas, k=qtd_referencias)\n",
        "    # tamanho_molduras = [2**i for i in range( int(math.log2(max_molduras)) + 1) ] # se max_molduras == 16, entao [2^0, 2^1 , 2^2, 2^3]\n",
        "    tamanho_molduras = [i for i in range(1, max_molduras+1)]\n",
        "    fifo_acumulate = []\n",
        "    aging_acumulate = []\n",
        "    # print('molduras: ', tamanho_molduras)\n",
        "\n",
        "    for tamanho_moldura in tamanho_molduras:\n",
        "        fifo_acumulate.append(fifo(referencias_as_paginas, tamanho_moldura))\n",
        "        aging_acumulate.append(aging_bits(referencias_as_paginas, tamanho_moldura))\n",
        "\n",
        "    return fifo_acumulate, aging_acumulate, tamanho_molduras\n"
      ],
      "metadata": {
        "id": "oGBTthClrIij"
      },
      "execution_count": 42,
      "outputs": []
    },
    {
      "cell_type": "code",
      "source": [
        "fifo_array, aging_array, tamanho_molduras = experimento_fifo_vs_aging(qtd_referencias = 1000, qtd_paginas = 64, max_molduras=32)\n",
        "print(tamanho_molduras)\n",
        "print(fifo_array)\n",
        "print(aging_array)\n",
        "\n",
        "# plotagem\n",
        "plt.plot(tamanho_molduras, fifo_array, label='FIFO')\n",
        "plt.plot(tamanho_molduras, aging_array, label='Aging', linestyle='--')\n",
        "plt.grid(True, linestyle=':', color='gray', alpha=0.7, linewidth=0.5)\n",
        "plt.xlabel('Tamanho da Moldura')\n",
        "# plt.xticks(tamanho_molduras)\n",
        "plt.ylabel('Faltas de Página')\n",
        "plt.title('Comparação entre FIFO e Aging')\n",
        "plt.legend()\n",
        "plt.show()\n"
      ],
      "metadata": {
        "colab": {
          "base_uri": "https://localhost:8080/",
          "height": 524
        },
        "id": "UbS0v0Amr4RL",
        "outputId": "81e4fb02-dd62-43d3-a0b0-7709228a6298"
      },
      "execution_count": 43,
      "outputs": [
        {
          "output_type": "stream",
          "name": "stdout",
          "text": [
            "[1, 2, 3, 4, 5, 6, 7, 8, 9, 10, 11, 12, 13, 14, 15, 16, 17, 18, 19, 20, 21, 22, 23, 24, 25, 26, 27, 28, 29, 30, 31, 32]\n",
            "[984, 968, 955, 939, 920, 907, 893, 874, 855, 840, 828, 817, 799, 767, 749, 739, 730, 714, 705, 688, 675, 656, 647, 639, 620, 599, 588, 583, 570, 559, 539, 523]\n",
            "[984, 969, 953, 937, 921, 906, 891, 878, 859, 845, 825, 814, 791, 775, 751, 737, 721, 711, 698, 687, 677, 666, 654, 639, 630, 620, 611, 590, 579, 554, 537, 521]\n"
          ]
        },
        {
          "output_type": "display_data",
          "data": {
            "text/plain": [
              "<Figure size 640x480 with 1 Axes>"
            ],
            "image/png": "[encoded data removed]"
          },
          "metadata": {}
        }
      ]
    },
    {
      "cell_type": "markdown",
      "source": [
        "# Gráfico Médio\n"
      ],
      "metadata": {
        "id": "BTkHg5B2UsiI"
      }
    },
    {
      "cell_type": "code",
      "source": [
        "num_experiements = 100\n",
        "qtd_paginas = 64\n",
        "qtd_referencias = 1000\n",
        "max_molduras = 32\n",
        "\n",
        "paginas = np.arange(qtd_paginas)\n",
        "m_r_fifo = np.zeros((num_experiements, max_molduras))\n",
        "m_r_aging = np.zeros((num_experiements, max_molduras))\n",
        "\n",
        "for i in range(num_experiements):\n",
        "    print(f\"\\ri: {i}\", end='')\n",
        "    for j in range(1, max_molduras+1):\n",
        "        referencias_as_paginas = random.choices(paginas, k=qtd_referencias)\n",
        "        fifo_array, aging_array, tamanho_molduras = experimento_fifo_vs_aging(qtd_referencias = qtd_referencias, qtd_paginas = qtd_paginas, max_molduras=max_molduras)\n",
        "        m_r_fifo[i, j-1] = fifo_array[j-1]\n",
        "        m_r_aging[i, j-1] = aging_array[j-1]\n",
        "\n"
      ],
      "metadata": {
        "colab": {
          "base_uri": "https://localhost:8080/"
        },
        "id": "9FjFRuFtUvsA",
        "outputId": "469414c8-b3e4-4ada-b708-24ee440aaa0a"
      },
      "execution_count": null,
      "outputs": [
        {
          "output_type": "stream",
          "name": "stdout",
          "text": [
            "i: 66"
          ]
        }
      ]
    },
    {
      "cell_type": "code",
      "source": [
        "# Calcular as médias e desvios padrão\n",
        "fifo_cor = \"red\"\n",
        "aging_cor = \"green\"\n",
        "\n",
        "medias_fifo = np.mean(m_r_fifo, axis=0)\n",
        "desvios_padrao_fifo = np.std(m_r_fifo, axis=0)\n",
        "\n",
        "medias_aging = np.mean(m_r_aging, axis=0)\n",
        "desvios_padrao_aging = np.std(m_r_aging, axis=0)\n",
        "\n",
        "print(f\"medias_fifo: {medias_fifo}\")\n",
        "print(f\"desvios_padrao_fifo: {desvios_padrao_fifo}\")\n",
        "\n",
        "print(f\"medias_aging: {medias_aging}\")\n",
        "print(f\"desvios_padrao_aging: {desvios_padrao_aging}\")\n",
        "\n",
        "# Quantidade de molduras\n",
        "molduras = np.arange(1, max_molduras + 1)\n",
        "\n",
        "# 1. Gráfico separado para FIFO\n",
        "# plt.figure(figsize=(10, 6))\n",
        "plt.plot(molduras, medias_fifo,\n",
        "         marker='o',\n",
        "         color=fifo_cor, label='FIFO - Média das Faltas')\n",
        "plt.fill_between(molduras, medias_fifo - desvios_padrao_fifo, medias_fifo + desvios_padrao_fifo,\n",
        "                 color=fifo_cor, alpha=0.2, label='FIFO - Desvio Padrão')\n",
        "plt.title('FIFO - Média e Desvio Padrão das Faltas de Páginas por Moldura')\n",
        "plt.xlabel('Quantidade de Molduras')\n",
        "plt.ylabel('Faltas de Páginas')\n",
        "plt.legend()\n",
        "plt.grid(True)\n",
        "plt.show()\n",
        "\n",
        "# 2. Gráfico separado para Aging\n",
        "# plt.figure(figsize=(10, 6))\n",
        "plt.plot(molduras, medias_aging,\n",
        "         marker='o',\n",
        "         color=aging_cor, label='Aging - Média das Faltas')\n",
        "plt.fill_between(molduras, medias_aging - desvios_padrao_aging, medias_aging + desvios_padrao_aging,\n",
        "                 color=aging_cor, alpha=0.2, label='Aging - Desvio Padrão')\n",
        "plt.title('Aging - Média e Desvio Padrão das Faltas de Páginas por Moldura')\n",
        "plt.xlabel('Quantidade de Molduras')\n",
        "plt.ylabel('Faltas de Páginas')\n",
        "plt.legend()\n",
        "plt.grid(True)\n",
        "plt.show()\n",
        "\n",
        "# 3. Gráfico combinando FIFO e Aging\n",
        "# plt.figure(figsize=(10, 6))\n",
        "plt.plot(molduras, medias_fifo,\n",
        "         marker='o',\n",
        "         color=fifo_cor, label='FIFO - Média das Faltas')\n",
        "plt.plot(molduras, medias_aging,\n",
        "         marker='o',\n",
        "         color=aging_cor, label='Aging - Média das Faltas')\n",
        "plt.fill_between(molduras, medias_fifo - desvios_padrao_fifo, medias_fifo + desvios_padrao_fifo,\n",
        "                 color=fifo_cor, alpha=0.2, label='FIFO - Desvio Padrão')\n",
        "plt.fill_between(molduras, medias_aging - desvios_padrao_aging, medias_aging + desvios_padrao_aging,\n",
        "                 color=aging_cor, alpha=0.2, label='Aging - Desvio Padrão')\n",
        "plt.title('Comparação: FIFO e Aging - Média e Desvio Padrão das Faltas de Páginas por Moldura')\n",
        "plt.xlabel('Quantidade de Molduras')\n",
        "plt.ylabel('Faltas de Páginas')\n",
        "plt.legend()\n",
        "plt.grid(True)\n",
        "plt.show()"
      ],
      "metadata": {
        "id": "Rp87Ea_AXXMp"
      },
      "execution_count": null,
      "outputs": []
    },
    {
      "cell_type": "code",
      "source": [
        "# plotar todas os fifos\n",
        "for i in m_r_fifo:\n",
        "    plt.plot(molduras, i,\n",
        "            #  marker='o'\n",
        "             )\n",
        "plt.show()\n",
        "\n",
        "# plotar todas os agings\n",
        "for i in m_r_aging:\n",
        "    plt.plot(molduras, i,\n",
        "            #  marker='o'\n",
        "             )\n",
        "plt.show()"
      ],
      "metadata": {
        "id": "PkRehDHJfWvm"
      },
      "execution_count": null,
      "outputs": []
    },
    {
      "cell_type": "markdown",
      "source": [
        "# Aging variando quantidade de bits para os contadores, usando as mesmas referências"
      ],
      "metadata": {
        "id": "cDoTIFV6HGKd"
      }
    },
    {
      "cell_type": "code",
      "source": [
        "def evaluate_aging_algorithm_with_varying_bits(referencias_as_paginas, qtd_molduras, bits_range):\n",
        "    resultados = []\n",
        "    for qtd_bits in bits_range:\n",
        "        faltas = aging_bits(referencias_as_paginas, qtd_molduras, qtd_bits)\n",
        "        resultados.append(faltas)\n",
        "    return resultados\n"
      ],
      "metadata": {
        "id": "GWXFzEiJtD_C"
      },
      "execution_count": null,
      "outputs": []
    },
    {
      "cell_type": "code",
      "source": [
        "qtd_referencias = 1000\n",
        "qtd_paginas = 64\n",
        "qtd_molduras = 32\n",
        "max_bits = 64+1\n",
        "\n",
        "bits_range = [i for i in range(2, max_bits)]\n",
        "paginas = [i for i in range(qtd_paginas)]\n",
        "\n",
        "referencias_as_paginas = random.choices(paginas, k=qtd_referencias)\n",
        "resultados = evaluate_aging_algorithm_with_varying_bits(referencias_as_paginas, qtd_molduras, bits_range)"
      ],
      "metadata": {
        "id": "Vrdb8--AAqaM"
      },
      "execution_count": null,
      "outputs": []
    },
    {
      "cell_type": "code",
      "source": [
        "print(dict(zip(bits_range, resultados)))\n",
        "plt.plot(\n",
        "    bits_range,\n",
        "    resultados,\n",
        "    # marker='o'\n",
        "    )\n",
        "plt.xlabel('Número de Bits')\n",
        "plt.ylabel('Faltas de Página')\n",
        "plt.title('Aging variando quantidade de bits dos contadores')\n",
        "plt.grid(True, linestyle='--', color='gray', alpha=0.7, linewidth=0.5)\n",
        "plt.show()"
      ],
      "metadata": {
        "id": "MU_tu0aell8D"
      },
      "execution_count": null,
      "outputs": []
    },
    {
      "cell_type": "code",
      "source": [
        "import numpy as np\n",
        "import matplotlib.pyplot as plt\n",
        "\n",
        "# Definir o número de elementos\n",
        "n = 64\n",
        "\n",
        "# Gerar um vetor com uma distribuição gaussiana\n",
        "x = np.linspace(-3, 3, n)  # Cria um vetor de -3 a 3 com 64 pontos\n",
        "mean = 0\n",
        "std_dev = 1\n",
        "gaussian_curve = np.exp(-0.5 * ((x - mean) / std_dev) ** 2)\n",
        "\n",
        "# Normalizar para o intervalo [0, 1]\n",
        "gaussian_curve = (gaussian_curve - np.min(gaussian_curve)) / (np.max(gaussian_curve) - np.min(gaussian_curve))\n",
        "\n",
        "# Plotar o gráfico da curva gaussiana\n",
        "plt.plot(gaussian_curve, label='Distribuição Gaussiana Normalizada')\n",
        "plt.xlabel('Índice')\n",
        "plt.ylabel('Valor Normalizado')\n",
        "plt.title('Curva Gaussiana Normalizada')\n",
        "plt.legend()\n",
        "plt.grid(True)\n",
        "plt.show()\n",
        "\n",
        "# Mostrar o vetor resultante\n",
        "print(\"Vetor com distribuição gaussiana normalizada:\", gaussian_curve)\n",
        "print(gaussian_curve.shape)\n"
      ],
      "metadata": {
        "id": "UxLVQxmW1fgk"
      },
      "execution_count": null,
      "outputs": []
    },
    {
      "cell_type": "code",
      "source": [
        "# referencias_as_paginas = random.choices(paginas, k=qtd_referencias)\n",
        "referencias_as_paginas = random.choices(paginas, weights=gaussian_curve, k=qtd_referencias)"
      ],
      "metadata": {
        "id": "zSiA4lkdFFHJ"
      },
      "execution_count": null,
      "outputs": []
    },
    {
      "cell_type": "code",
      "source": [
        "# Contar as ocorrências de cada valor\n",
        "unique, counts = np.unique(referencias_as_paginas, return_counts=True)\n",
        "\n",
        "# Plotar o gráfico de barras\n",
        "plt.bar(unique, counts)\n",
        "plt.xlabel('Páginas')\n",
        "plt.ylabel('Quantidade de Ocorrências')\n",
        "plt.title('Distribuição de Frequência das Referências às Páginas')\n",
        "plt.grid(True, axis='y', linestyle='--', alpha=0.7)\n",
        "plt.show()\n",
        "\n",
        "# Mostrar o vetor resultante\n",
        "print(\"Vetor de referências:\", referencias_as_paginas)"
      ],
      "metadata": {
        "id": "9t806fnDFHx6"
      },
      "execution_count": null,
      "outputs": []
    },
    {
      "cell_type": "code",
      "source": [
        "print(dict(zip(bits_range, resultados)))\n",
        "resultados = evaluate_aging_algorithm_with_varying_bits(referencias_as_paginas, qtd_molduras, bits_range)\n",
        "plt.plot(\n",
        "    bits_range,\n",
        "    resultados,\n",
        "    # marker='o'\n",
        "    )\n",
        "plt.xlabel('Número de Bits')\n",
        "plt.ylabel('Faltas de Página')\n",
        "plt.title('Aging variando quantidade de bits dos contadores')\n",
        "plt.grid(True, linestyle='--', color='gray', alpha=0.7, linewidth=0.5)\n",
        "plt.show()"
      ],
      "metadata": {
        "id": "Q_Y-JjesGcCz"
      },
      "execution_count": null,
      "outputs": []
    },
    {
      "cell_type": "code",
      "source": [
        "# aging vs fifo com conjunto de trabalhos\n",
        "\n",
        "qtd_paginas = 64\n",
        "qtd_referencias = 1000\n",
        "max_molduras = 32\n",
        "\n",
        "tamanho_molduras = np.arange(1, max_molduras + 1)\n",
        "\n",
        "fifo_array = []\n",
        "aging_array = []\n",
        "\n",
        "for tamanho_moldura in tamanho_molduras:\n",
        "    fifo_array.append(fifo(referencias_as_paginas, tamanho_moldura))\n",
        "    aging_array.append(aging_bits(referencias_as_paginas, tamanho_moldura))\n",
        "\n",
        ""
      ],
      "metadata": {
        "id": "e8f9jBS4H-ik"
      },
      "execution_count": null,
      "outputs": []
    },
    {
      "cell_type": "code",
      "source": [
        "print(tamanho_molduras)\n",
        "print(fifo_array)\n",
        "print(aging_array)\n",
        "\n",
        "# plotagem\n",
        "plt.plot(tamanho_molduras, fifo_array, label='FIFO')\n",
        "plt.plot(tamanho_molduras, aging_array, label='Aging', linestyle='--')\n",
        "plt.grid(True, linestyle=':', color='gray', alpha=0.7, linewidth=0.5)\n",
        "plt.xlabel('Tamanho da Moldura')\n",
        "# plt.xticks(tamanho_molduras)\n",
        "plt.ylabel('Faltas de Página')\n",
        "plt.title('Comparação entre FIFO e Aging')\n",
        "plt.legend()\n",
        "plt.show()\n"
      ],
      "metadata": {
        "id": "OJQ8rAotIsLk"
      },
      "execution_count": null,
      "outputs": []
    }
  ],
  "metadata": {
    "kernelspec": {
      "display_name": "Python 3",
      "language": "python",
      "name": "python3"
    },
    "language_info": {
      "codemirror_mode": {
        "name": "ipython",
        "version": 3
      },
      "file_extension": ".py",
      "mimetype": "text/x-python",
      "name": "python",
      "nbconvert_exporter": "python",
      "pygments_lexer": "ipython3",
      "version": "3.11.4"
    },
    "colab": {
      "provenance": [],
      "include_colab_link": true
    }
  },
  "nbformat": 4,
  "nbformat_minor": 0
}